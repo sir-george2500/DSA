{
 "cells": [
  {
   "cell_type": "code",
   "execution_count": 7,
   "id": "3a2f6c3a",
   "metadata": {},
   "outputs": [
    {
     "name": "stdout",
     "output_type": "stream",
     "text": [
      "print target was found\n",
      "here is the target 10\n"
     ]
    }
   ],
   "source": [
    "\"\"\"\n",
    "A Binary Search is a algorithm that as a complexity of 0log(n)\n",
    "\"\"\"\n",
    "def BinarySearch(list , target):\n",
    "    start = 0\n",
    "    end = len(list)-1\n",
    "\n",
    "    while start<=end:\n",
    "        midpoint = (start+end)//2\n",
    "\n",
    "        if list[midpoint] == target:\n",
    "            return midpoint\n",
    "        elif list[midpoint] <target:\n",
    "            start = midpoint + 1\n",
    "        else:\n",
    "            end = midpoint -1\n",
    "    return None\n",
    "\n",
    "\n",
    "def verify(index):\n",
    "    if index is not None :\n",
    "        print(\"print target was found\")\n",
    "        print(\"here is the target\", index)\n",
    "    else:\n",
    "        print(\"print target not found in the list\")\n",
    "\n",
    "numbers = [1,2,3,4,5,6,8,9,10,11,12]\n",
    "\n",
    "result = BinarySearch(numbers,12)\n",
    "\n",
    "verify(result)"
   ]
  }
 ],
 "metadata": {
  "kernelspec": {
   "display_name": "Python 3 (ipykernel)",
   "language": "python",
   "name": "python3"
  },
  "language_info": {
   "codemirror_mode": {
    "name": "ipython",
    "version": 3
   },
   "file_extension": ".py",
   "mimetype": "text/x-python",
   "name": "python",
   "nbconvert_exporter": "python",
   "pygments_lexer": "ipython3",
   "version": "3.10.9"
  }
 },
 "nbformat": 4,
 "nbformat_minor": 5
}
