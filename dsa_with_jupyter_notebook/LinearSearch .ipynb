{
 "cells": [
  {
   "cell_type": "code",
   "execution_count": 4,
   "id": "0e3400b2",
   "metadata": {},
   "outputs": [
    {
     "name": "stdout",
     "output_type": "stream",
     "text": [
      "print target was found\n"
     ]
    }
   ],
   "source": [
    "\"\"\"\n",
    "A Linear Search is a algorithm that as a complexity of O(n)\n",
    "\"\"\"\n",
    "\n",
    "def linearSearch(list , target):\n",
    "    for i in range(0,len(list)):\n",
    "        if(list[i]==target):\n",
    "            return i\n",
    "    return None\n",
    "\n",
    "def verify(index):\n",
    "    if index is not None :\n",
    "        print(\"print target was found\")\n",
    "    else:\n",
    "        print(\"print target not found in the list\")\n",
    "\n",
    "numbers = [1,2,3,4,5,6,8,9,10,11,12]\n",
    "\n",
    "result = linearSearch(numbers,12)\n",
    "\n",
    "verify(result)"
   ]
  },
  {
   "cell_type": "code",
   "execution_count": null,
   "id": "28a4fe35",
   "metadata": {},
   "outputs": [],
   "source": []
  }
 ],
 "metadata": {
  "kernelspec": {
   "display_name": "Python 3 (ipykernel)",
   "language": "python",
   "name": "python3"
  },
  "language_info": {
   "codemirror_mode": {
    "name": "ipython",
    "version": 3
   },
   "file_extension": ".py",
   "mimetype": "text/x-python",
   "name": "python",
   "nbconvert_exporter": "python",
   "pygments_lexer": "ipython3",
   "version": "3.10.9"
  }
 },
 "nbformat": 4,
 "nbformat_minor": 5
}
